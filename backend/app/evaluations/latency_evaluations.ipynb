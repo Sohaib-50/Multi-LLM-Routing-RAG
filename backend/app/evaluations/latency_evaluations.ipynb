{
 "cells": [
  {
   "cell_type": "code",
   "execution_count": 1,
   "metadata": {},
   "outputs": [],
   "source": [
    "from openai import OpenAI\n",
    "import os\n",
    "import pandas as pd\n",
    "import requests\n",
    "import time"
   ]
  },
  {
   "cell_type": "code",
   "execution_count": 2,
   "metadata": {},
   "outputs": [
    {
     "name": "stdout",
     "output_type": "stream",
     "text": [
      "10 queries loaded\n"
     ]
    }
   ],
   "source": [
    "script_dir = os.path.dirname('.')\n",
    "df = pd.read_csv(os.path.join(script_dir, 'datasets', 'Meezan-HR-synthetic-testset.csv'))\n",
    "queries = df['question'].tolist()\n",
    "print(f\"{len(queries)} queries loaded\")"
   ]
  },
  {
   "cell_type": "code",
   "execution_count": 46,
   "metadata": {},
   "outputs": [
    {
     "name": "stdout",
     "output_type": "stream",
     "text": [
      "['What is the dress code for female employees in the workplace?', 'What is the purpose and process of a domestic inquiry?', 'What is the role of a management representative in the inquiry proceedings?', 'What are the vehicle arrangement options for employees in EVP grade and above?', 'What are the incentives provided for passing the Junior Associateship of IBP exams?', \"What are the consequences for employees who don't follow office discipline, especially regarding punctuality and reading newspapers during office hours?\", \"What support does Meezan Bank provide to an employee's family in case of death, and where does it come from?\", 'What is the purpose of the HR Guidelines & Procedure Document at Meezan Bank Limited?', 'What are the guidelines for recruitment, selection, and placement in the organization, including dress code and office timings?', \"What are the steps and requirements for an employee to receive a cash incentive in the company's sales commission structure?\"]\n"
     ]
    }
   ],
   "source": [
    "print(queries)"
   ]
  },
  {
   "cell_type": "code",
   "execution_count": 3,
   "metadata": {},
   "outputs": [],
   "source": [
    "def rag_completion(chat_id: int, query: str, eval_approach: str):\n",
    "    '''\n",
    "    makes post request to RAG app endpoint to get AI response. \n",
    "    Passes chat_id, query and use_litellm flag in the request body.\n",
    "    '''\n",
    "    url = f'http://localhost:8000/api/chat/{chat_id}/get_ai_response/'\n",
    "    data = {\n",
    "        'query': query,\n",
    "        'eval_approach': eval_approach\n",
    "    }\n",
    "    response = requests.post(url=url, data=data)\n",
    "    return response\n",
    "    \n",
    "    "
   ]
  },
  {
   "cell_type": "code",
   "execution_count": 12,
   "metadata": {},
   "outputs": [
    {
     "data": {
      "text/plain": [
       "<Response [200]>"
      ]
     },
     "execution_count": 12,
     "metadata": {},
     "output_type": "execute_result"
    }
   ],
   "source": [
    "CHAT_ID = 3  # existing Meezan HR chat id\n",
    "\n",
    "response = rag_completion(chat_id=CHAT_ID, query=queries[0], eval_approach='litellm_proxy')\n",
    "response"
   ]
  },
  {
   "cell_type": "code",
   "execution_count": 13,
   "metadata": {},
   "outputs": [
    {
     "data": {
      "text/plain": [
       "\"The dress code for female employees in the workplace includes the following guidelines:\\n\\n1. **Elegant Dressing**: Female employees should dress elegantly with a Headscarf and Abaya, without being ostentatious.\\n\\n2. **Modest Attire**: An appropriate dress code includes Shalwar Kameez or any modest dressing, along with an Abaya.\\n\\n3. **Headscarf and Abaya**: Female staff are required to wear Hijabs (a scarf covering the entire head and hair) and a gown covering sleeves while on duty, training, and on clients' visits, as required by Islamic injunctions.\\n\\n4. **Discretion with Makeup and Jewelry**: Female staff are expected to exercise discretion in their choice of makeup and jewelry. Nails should not be longer than medium and may only be polished with neutral colors.\\n\\n5. **Body Hygiene**: Proper care of body hygiene is a must for all female employees.\\n\\nThese guidelines aim to maintain a professional appearance while also respecting cultural and religious considerations in the workplace.\""
      ]
     },
     "execution_count": 13,
     "metadata": {},
     "output_type": "execute_result"
    }
   ],
   "source": [
    "response.json().get('ai_message').get('content')\n"
   ]
  },
  {
   "cell_type": "markdown",
   "metadata": {},
   "source": [
    "## Evaluate latency for open AI RAG approach"
   ]
  },
  {
   "cell_type": "code",
   "execution_count": 14,
   "metadata": {},
   "outputs": [
    {
     "name": "stdout",
     "output_type": "stream",
     "text": [
      "Total time taken for 10 queries with direct OpenAI RAG approach: 45.16123628616333 seconds\n"
     ]
    }
   ],
   "source": [
    "CHAT_ID = 3  # existing Meezan HR chat id\n",
    "\n",
    "responses = []\n",
    "start_time = time.time()\n",
    "for query in queries:\n",
    "    response = rag_completion(chat_id=CHAT_ID, query=query, eval_approach='openai')\n",
    "    responses.append(response.json().get('ai_message').get('content'))\n",
    "\n",
    "end_time = time.time()\n",
    "time_taken = end_time - start_time\n",
    "\n",
    "df['openai_rag_response'] = responses\n",
    "df.to_csv(os.path.join(script_dir, 'datasets', 'Meezan-HR-synthetic-testset.csv'), index=False)\n",
    "\n",
    "print(f\"Total time taken for {len(queries)} queries with direct OpenAI RAG approach: {time_taken} seconds\")"
   ]
  },
  {
   "cell_type": "markdown",
   "metadata": {},
   "source": [
    "## Evaluate latency for litellm proxy RAG approach"
   ]
  },
  {
   "cell_type": "code",
   "execution_count": 16,
   "metadata": {},
   "outputs": [
    {
     "name": "stdout",
     "output_type": "stream",
     "text": [
      "Total time taken for 10 queries with litellm proxy approach: 56.30036687850952 seconds\n"
     ]
    }
   ],
   "source": [
    "CHAT_ID = 3  # existing Meezan HR chat id\n",
    "\n",
    "responses = []\n",
    "start_time = time.time()\n",
    "for query in queries:\n",
    "    response = rag_completion(chat_id=CHAT_ID, query=query, eval_approach='litellm_proxy')\n",
    "    responses.append(response.json().get('ai_message').get('content'))\n",
    "\n",
    "end_time = time.time()\n",
    "time_taken = end_time - start_time\n",
    "\n",
    "df['litellm_proxy_rag_response'] = responses\n",
    "df.to_csv(os.path.join(script_dir, 'datasets', 'Meezan-HR-synthetic-testset.csv'), index=False)\n",
    "\n",
    "print(f\"Total time taken for {len(queries)} queries with litellm proxy approach: {time_taken} seconds\")"
   ]
  },
  {
   "cell_type": "markdown",
   "metadata": {},
   "source": [
    "## Evaluate latency for litellm proxy RAG approach with fallback being used (set up wrong api in proxy for gpt-4-omni)"
   ]
  },
  {
   "cell_type": "code",
   "execution_count": 18,
   "metadata": {},
   "outputs": [
    {
     "name": "stdout",
     "output_type": "stream",
     "text": [
      "Total time taken for 10 queries with litellm proxy with fallback approach: 206.12182474136353 seconds\n"
     ]
    }
   ],
   "source": [
    "CHAT_ID = 3  # existing Meezan HR chat id\n",
    "\n",
    "responses = []\n",
    "start_time = time.time()\n",
    "for query in queries:\n",
    "    response = rag_completion(chat_id=CHAT_ID, query=query, eval_approach='litellm_proxy')\n",
    "    responses.append(response.json().get('ai_message').get('content'))\n",
    "\n",
    "end_time = time.time()\n",
    "time_taken = end_time - start_time\n",
    "\n",
    "print(f\"Total time taken for {len(queries)} queries with litellm proxy with fallback approach: {time_taken} seconds\")"
   ]
  },
  {
   "cell_type": "markdown",
   "metadata": {},
   "source": [
    "## Evaluate latency for litellm proxy RAG approach with non gpt model (openrouter mistral 7b)"
   ]
  },
  {
   "cell_type": "code",
   "execution_count": 19,
   "metadata": {},
   "outputs": [
    {
     "data": {
      "text/plain": [
       "' According to the provided context, the dress code for female employees in Meezan Bank Limited is as follows:\\n\\n1. Female employees should dress elegantly with a headscarf and Abaya, without being ostentatious.\\n2. An appropriate dress code includes Shalwar Kameez/any modest dressing, with Abaya.\\n3. Female staff are required to wear Hijabs (a scarf covering the entire head and hair and a gown covering sleeves) while on duty, training, and on clients’ visit, as required by Islamic injunction.\\n4. Female staff is expected to exercise discretion in their choice of make-up & jewelry. Nails should not be longer than medium & may be polished only with neutral colors.\\n5. Proper care of body hygiene is a must.'"
      ]
     },
     "execution_count": 19,
     "metadata": {},
     "output_type": "execute_result"
    }
   ],
   "source": [
    "# try one call first\n",
    "response = rag_completion(chat_id=CHAT_ID, query=queries[0], eval_approach='litellm_proxy')\n",
    "response.json().get('ai_message').get('content')"
   ]
  },
  {
   "cell_type": "code",
   "execution_count": 23,
   "metadata": {},
   "outputs": [
    {
     "name": "stdout",
     "output_type": "stream",
     "text": [
      "Total time taken for 10 queries with litellm proxy with nongpt approach: 71.99534797668457 seconds\n"
     ]
    }
   ],
   "source": [
    "# litellm_proxy_nongpt approach\n",
    "CHAT_ID = 3  # existing Meezan HR chat id\n",
    "\n",
    "responses = []\n",
    "start_time = time.time()\n",
    "for query in queries:\n",
    "    response = rag_completion(chat_id=CHAT_ID, query=query, eval_approach='litellm_proxy_nongpt')\n",
    "    responses.append(response.json().get('ai_message').get('content'))\n",
    "    \n",
    "end_time = time.time()\n",
    "time_taken = end_time - start_time\n",
    "\n",
    "print(f\"Total time taken for {len(queries)} queries with litellm proxy with nongpt approach: {time_taken} seconds\")"
   ]
  }
 ],
 "metadata": {
  "kernelspec": {
   "display_name": "venv",
   "language": "python",
   "name": "python3"
  },
  "language_info": {
   "codemirror_mode": {
    "name": "ipython",
    "version": 3
   },
   "file_extension": ".py",
   "mimetype": "text/x-python",
   "name": "python",
   "nbconvert_exporter": "python",
   "pygments_lexer": "ipython3",
   "version": "3.10.12"
  }
 },
 "nbformat": 4,
 "nbformat_minor": 2
}
